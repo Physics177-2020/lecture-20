{
 "cells": [
  {
   "cell_type": "markdown",
   "metadata": {
    "colab_type": "text",
    "id": "DvZNupW5M1ys"
   },
   "source": [
    "# Lecture 20: Bayesian inference\n",
    "\n",
    "Last time we talked about maximum likelihood inference, a method to estimate parameters from data. Using this method we would be able to find the parameters that maximize the likelihood, or in other words, the probability of observing our data.\n",
    "\n",
    "[Bayesian inference](https://en.wikipedia.org/wiki/Bayesian_inference) takes a different approach: instead of picking out just the parameters that maximize the likelihood, we average over the set of all parameters, weighted by their likelihood of producing the data. Bayesian inference also allows us to define what is called a [prior distribution](https://en.wikipedia.org/wiki/Prior_probability) for the parameters. The prior distribution quantifies our knowledge (or expectation) of the parameter values before looking at the data. The parameters that we infer are then influenced by both the likelihood and the prior distribution.\n",
    "\n",
    "\n",
    "### Example: Estimating the bias of a coin flip\n",
    "\n",
    "Let's consider a process with a binary outcome. One example of this would be a coin flip: the coin can either land on heads (1) or tails (0). Here, which outcome we refer to as 1 and which we refer to as 0 is not important.\n",
    "\n",
    "Our task is to estimate the probability that we get a 1 or a 0 from a limited set of data. Because the probabilities must sum to one, there is really only one parameter to estimate. We could choose that parameter to be the probability of getting a 1 with each \"flip\", which we'll call $p$. This is analogous to an Ising spin coupled to an external magnetic field. In that case, the strength and direction of the magnetic field corresponds to the bias on the coin.\n",
    "\n",
    "If we were doing maximum likelihood inference, we would compute the likelihood of getting a set of data, and then we would look for the value of $p$ that is most likely to yield the data that we observed. But, as we saw, this leads to counterintuitive results especially when we have little data to work with. Here, we'll take the Bayesian approach instead: averaging over the different possible values of $p$, **weighted** by the probability that they produced the data that we observed.\n",
    "\n",
    "First, let's generate a set of data to analyze."
   ]
  },
  {
   "cell_type": "code",
   "execution_count": 14,
   "metadata": {
    "colab": {
     "base_uri": "https://localhost:8080/",
     "height": 71
    },
    "colab_type": "code",
    "id": "WESNiRsEM1yt",
    "outputId": "6de85804-3231-4391-a33d-6a8ce299c9d6"
   },
   "outputs": [
    {
     "name": "stdout",
     "output_type": "stream",
     "text": [
      "[1 1 1 1 1 0 1 1 1 0 0 1 1 1 1 1 1 0 1 1 1 0 1 0 0 0 0 1 1 0 0 1 0 1 1 1 0\n",
      " 0 0 1 1 0 1 0 1 1 1 0 1 0 1 1 0 1 1 1 1 0 0 1 1 1 1 1 0 1 1 1 1 1 1 0 0 1\n",
      " 0 1 0 1 1 1 1 1 1 0 1 0 1 1 1 0 1 0 0 0 0 0 1 1 0 1]\n"
     ]
    }
   ],
   "source": [
    "import numpy as np\n",
    "import numpy.random as rng\n",
    "\n",
    "p_true    = 0.6\n",
    "n_samples = 100\n",
    "\n",
    "data = rng.choice(range(2), p=[1 - p_true, p_true], size=n_samples)\n",
    "print(data)"
   ]
  },
  {
   "cell_type": "code",
   "execution_count": 0,
   "metadata": {
    "colab": {},
    "colab_type": "code",
    "id": "TwrhSycWM1yw"
   },
   "outputs": [],
   "source": [
    "\n",
    "\n",
    "\n",
    "\n",
    "\n",
    "\n",
    "\n",
    "\n",
    "\n",
    "\n",
    "\n",
    "\n",
    "\n",
    "\n",
    "\n",
    "\n",
    "\n",
    "\n",
    "\n",
    "\n",
    "\n",
    "\n"
   ]
  },
  {
   "cell_type": "markdown",
   "metadata": {
    "colab_type": "text",
    "id": "Jj--50KQM1yz"
   },
   "source": [
    "### Computing the likelihood\n",
    "\n",
    "How likely would we be to generate the above data for each possible value of $p$? The probability of each 1 would be $p$, and the probability of each 0 would be $1-p$. Because each event is independent, the total probability of the data is just the product of these individual probabilities.\n",
    "\n",
    "Below, let's write a function to compute the likelihood of the data as a function of $p$ and let's plot the results."
   ]
  },
  {
   "cell_type": "code",
   "execution_count": 15,
   "metadata": {
    "colab": {
     "base_uri": "https://localhost:8080/",
     "height": 294
    },
    "colab_type": "code",
    "id": "gVNZOrY5M1y0",
    "outputId": "71be9d4d-af05-4d16-9bf8-7a580660d5d9"
   },
   "outputs": [
    {
     "data": {
      "text/plain": [
       "<matplotlib.axes._subplots.AxesSubplot at 0x7fe348b0e908>"
      ]
     },
     "execution_count": 15,
     "metadata": {
      "tags": []
     },
     "output_type": "execute_result"
    },
    {
     "data": {
      "image/png": "[encoded data removed]",
      "text/plain": [
       "<Figure size 432x288 with 1 Axes>"
      ]
     },
     "metadata": {
      "tags": []
     },
     "output_type": "display_data"
    }
   ],
   "source": [
    "%matplotlib inline\n",
    "import seaborn as sns\n",
    "import matplotlib.pyplot as plt\n",
    "\n",
    "def likelihood(p, data):\n",
    "    return p**np.sum(data) * (1-p)**(len(data)-np.sum(data))\n",
    "  \n",
    "p_range = np.arange(0, 1, 0.01)\n",
    "l_range = likelihood(p_range, data)\n",
    "\n",
    "sns.lineplot(p_range, l_range)"
   ]
  },
  {
   "cell_type": "code",
   "execution_count": 0,
   "metadata": {
    "colab": {},
    "colab_type": "code",
    "id": "FGBEU7v8M1y3"
   },
   "outputs": [],
   "source": [
    "\n",
    "\n",
    "\n",
    "\n",
    "\n",
    "\n",
    "\n",
    "\n",
    "\n",
    "\n",
    "\n",
    "\n",
    "\n",
    "\n",
    "\n",
    "\n",
    "\n",
    "\n",
    "\n",
    "\n",
    "\n",
    "\n"
   ]
  },
  {
   "cell_type": "markdown",
   "metadata": {
    "colab_type": "text",
    "id": "EPI4h6vGM1y6"
   },
   "source": [
    "### Normalization\n",
    "\n",
    "In Bayesian inference, we would think of the likelihood as something like a probability distribution for the **parameters** -- $p$, in this case. However, this \"distribution\" isn't properly normalized. To do this we would need to integrate the likelihood over all possible values of $p$, which ranges from $\\left[0, 1\\right]$.\n",
    "\n",
    "Once we have the normalization, we can compute the \"probability\" of different values of $p$, as well as the expected value of $p$ when averaged over the likelihood. This latter quantity is referred to as the posterior mean (of $p$)."
   ]
  },
  {
   "cell_type": "code",
   "execution_count": 16,
   "metadata": {
    "colab": {
     "base_uri": "https://localhost:8080/",
     "height": 305
    },
    "colab_type": "code",
    "id": "lERitbWsM1y7",
    "outputId": "f1817e9a-349c-4ab3-f1e4-36d09f13f5af"
   },
   "outputs": [
    {
     "name": "stdout",
     "output_type": "stream",
     "text": [
      "5.007569872816025e-30\n"
     ]
    },
    {
     "data": {
      "text/plain": [
       "<matplotlib.axes._subplots.AxesSubplot at 0x7fe348c4b6d8>"
      ]
     },
     "execution_count": 16,
     "metadata": {
      "tags": []
     },
     "output_type": "execute_result"
    },
    {
     "data": {
      "image/png": "[encoded data removed]",
      "text/plain": [
       "<Figure size 432x288 with 1 Axes>"
      ]
     },
     "metadata": {
      "tags": []
     },
     "output_type": "display_data"
    }
   ],
   "source": [
    "import scipy.integrate as sn\n",
    "\n",
    "norm = sn.quad(likelihood, 0, 1, args=(data))[0]\n",
    "print(norm)\n",
    "\n",
    "p_range = np.arange(0, 1, 0.01)\n",
    "l_range = likelihood(p_range, data)/norm\n",
    "\n",
    "sns.lineplot(p_range, l_range)"
   ]
  },
  {
   "cell_type": "code",
   "execution_count": 17,
   "metadata": {
    "colab": {
     "base_uri": "https://localhost:8080/",
     "height": 35
    },
    "colab_type": "code",
    "id": "frJWTXqrM1y9",
    "outputId": "65aea283-874f-485e-e735-df732adcfe78"
   },
   "outputs": [
    {
     "data": {
      "text/plain": [
       "(0.6372549020294681, 7.897367640295329e-09)"
      ]
     },
     "execution_count": 17,
     "metadata": {
      "tags": []
     },
     "output_type": "execute_result"
    }
   ],
   "source": [
    "def avgp(p, data):\n",
    "    return p * p**np.sum(data) * (1-p)**(len(data)-np.sum(data))/norm\n",
    "\n",
    "sn.quad(avgp, 0, 1, args=(data))\n",
    "\n",
    "\n",
    "\n",
    "\n",
    "\n",
    "\n",
    "\n",
    "\n",
    "\n",
    "\n",
    "\n",
    "\n",
    "\n",
    "\n",
    "\n",
    "\n",
    "\n",
    "\n",
    "\n",
    "\n"
   ]
  },
  {
   "cell_type": "markdown",
   "metadata": {
    "colab_type": "text",
    "id": "th5En8gYM1zA"
   },
   "source": [
    "### Adding a prior distribution\n",
    "\n",
    "In the previous example, we did not explicitly include a prior distribution $P_{\\rm prior}(p)$ that quantifies the expectations that we have about the value of $p$ *before* seeing the data. In this case, we have what's called an implicit prior for $p$. By default, we assume that all possible values in the range from zero to one are equally probable.\n",
    "\n",
    "Let's include an explicit prior distribution now. In particular, let's assume that the probability of getting a 1 and a 0 are normally distributed around one half. In other words, we would assume that our \"coin\" is probably fair, but that plausible values of $p$ could be in some range around 0.5. We can adjust the width of this distribution to quantify our confidence that $p$ should be around 0.5.\n",
    "\n",
    "The posterior probability of different values of $p$ is then given by the (normalized) product of the likelihood and the prior distribution."
   ]
  },
  {
   "cell_type": "code",
   "execution_count": 0,
   "metadata": {
    "colab": {},
    "colab_type": "code",
    "id": "4ffClai9M1zB"
   },
   "outputs": [],
   "source": [
    "# Define the prior and get its normalization\n",
    "\n",
    "sigma = 0.1\n",
    "\n",
    "def prior(p):\n",
    "  return np.exp(-(p-0.5)**2 / (sigma**2))\n",
    "\n",
    "norm_prior = sn.quad(prior, 0, 1)[0]\n",
    "\n",
    "\n",
    "# Define the posterior and get its normalization\n",
    "\n",
    "def posterior(p, data):\n",
    "    return p**np.sum(data) * (1-p)**(len(data)-np.sum(data)) * prior(p)\n",
    "  \n",
    "norm_posterior = sn.quad(posterior, 0, 1, args=(data))[0]"
   ]
  },
  {
   "cell_type": "code",
   "execution_count": 0,
   "metadata": {
    "colab": {},
    "colab_type": "code",
    "id": "YxXiftxpM1zE"
   },
   "outputs": [],
   "source": [
    "\n",
    "\n",
    "\n",
    "\n",
    "\n",
    "\n",
    "\n",
    "\n",
    "\n",
    "\n",
    "\n",
    "\n",
    "\n",
    "\n",
    "\n",
    "\n",
    "\n",
    "\n",
    "\n",
    "\n",
    "\n",
    "\n"
   ]
  },
  {
   "cell_type": "markdown",
   "metadata": {
    "colab_type": "text",
    "id": "-d34icHWM1zH"
   },
   "source": [
    "### Inference with and without the prior\n",
    "\n",
    "Below, let's compare our inferences for different number of samples and different widths of the prior distribution, including an implicit, uniform prior."
   ]
  },
  {
   "cell_type": "code",
   "execution_count": 19,
   "metadata": {
    "colab": {
     "base_uri": "https://localhost:8080/",
     "height": 287
    },
    "colab_type": "code",
    "id": "De5hK_4_M1zI",
    "outputId": "ca581d9a-0b8a-432e-b00a-ee304a3f1a25"
   },
   "outputs": [
    {
     "data": {
      "text/plain": [
       "<matplotlib.axes._subplots.AxesSubplot at 0x7fe348ac17b8>"
      ]
     },
     "execution_count": 19,
     "metadata": {
      "tags": []
     },
     "output_type": "execute_result"
    },
    {
     "data": {
      "image/png": "[encoded data removed]",
      "text/plain": [
       "<Figure size 432x288 with 1 Axes>"
      ]
     },
     "metadata": {
      "tags": []
     },
     "output_type": "display_data"
    }
   ],
   "source": [
    "p_range = np.arange(0, 1, 0.01)\n",
    "l_range = likelihood(p_range, data)/norm\n",
    "prior_range = prior(p_range)/norm_prior\n",
    "posterior_range = posterior(p_range, data)/norm_posterior\n",
    "\n",
    "sns.lineplot(p_range, l_range, label='likelihood')\n",
    "sns.lineplot(p_range, prior_range, label='prior')\n",
    "sns.lineplot(p_range, posterior_range, label='posterior')"
   ]
  },
  {
   "cell_type": "code",
   "execution_count": 20,
   "metadata": {
    "colab": {
     "base_uri": "https://localhost:8080/",
     "height": 35
    },
    "colab_type": "code",
    "id": "e3e9zFTzX8NU",
    "outputId": "a993abc8-dd29-4f9c-97b2-57e94512ac44"
   },
   "outputs": [
    {
     "data": {
      "text/plain": [
       "(0.5937964606098266, 4.643970916148793e-10)"
      ]
     },
     "execution_count": 20,
     "metadata": {
      "tags": []
     },
     "output_type": "execute_result"
    }
   ],
   "source": [
    "def avgp_bayes(p, data):\n",
    "    return p * p**np.sum(data) * (1-p)**(len(data)-np.sum(data)) * prior(p)/norm_posterior\n",
    "\n",
    "sn.quad(avgp_bayes, 0, 1, args=(data))"
   ]
  },
  {
   "cell_type": "code",
   "execution_count": 0,
   "metadata": {
    "colab": {},
    "colab_type": "code",
    "id": "B1IvAVByM1zL"
   },
   "outputs": [],
   "source": [
    "\n",
    "\n",
    "\n",
    "\n",
    "\n",
    "\n",
    "\n",
    "\n",
    "\n",
    "\n",
    "\n",
    "\n",
    "\n",
    "\n",
    "\n",
    "\n",
    "\n",
    "\n",
    "\n",
    "\n",
    "\n",
    "\n"
   ]
  }
 ],
 "metadata": {
  "colab": {
   "name": "Copy of lecture-17.ipynb",
   "provenance": [],
   "version": "0.3.2"
  },
  "kernelspec": {
   "display_name": "Python 3",
   "language": "python",
   "name": "python3"
  },
  "language_info": {
   "codemirror_mode": {
    "name": "ipython",
    "version": 3
   },
   "file_extension": ".py",
   "mimetype": "text/x-python",
   "name": "python",
   "nbconvert_exporter": "python",
   "pygments_lexer": "ipython3",
   "version": "3.7.7"
  }
 },
 "nbformat": 4,
 "nbformat_minor": 1
}
